{
 "cells": [
  {
   "cell_type": "code",
   "execution_count": null,
   "id": "e1859a9f-35e8-4998-9126-dd72220e236b",
   "metadata": {},
   "outputs": [],
   "source": [
    "from stable_baselines3 import MultiSB3 "
   ]
  },
  {
   "cell_type": "code",
   "execution_count": null,
   "id": "4c944097-2fa7-43c6-98cd-61bc20845616",
   "metadata": {},
   "outputs": [],
   "source": []
  }
 ],
 "metadata": {
  "kernelspec": {
   "display_name": "Python 3 (ipykernel)",
   "language": "python",
   "name": "python3"
  },
  "language_info": {
   "codemirror_mode": {
    "name": "ipython",
    "version": 3
   },
   "file_extension": ".py",
   "mimetype": "text/x-python",
   "name": "python",
   "nbconvert_exporter": "python",
   "pygments_lexer": "ipython3",
   "version": "3.10.7"
  }
 },
 "nbformat": 4,
 "nbformat_minor": 5
}
